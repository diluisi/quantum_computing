{
 "cells": [
  {
   "cell_type": "code",
   "execution_count": 1,
   "metadata": {},
   "outputs": [],
   "source": [
    "import qiskit"
   ]
  },
  {
   "cell_type": "code",
   "execution_count": 3,
   "metadata": {},
   "outputs": [
    {
     "data": {
      "text/plain": [
       "{'qiskit-terra': '0.10.0',\n",
       " 'qiskit-aer': '0.3.2',\n",
       " 'qiskit-ignis': '0.2.0',\n",
       " 'qiskit-ibmq-provider': '0.3.3',\n",
       " 'qiskit-aqua': '0.6.1',\n",
       " 'qiskit': '0.13.0'}"
      ]
     },
     "execution_count": 3,
     "metadata": {},
     "output_type": "execute_result"
    }
   ],
   "source": [
    "qiskit.__qiskit_version__"
   ]
  },
  {
   "cell_type": "markdown",
   "metadata": {},
   "source": [
    "## Primeiro passo\n",
    "\n",
    "Debug o código num simulador e depois mandamos para um device quântico.\n",
    "\n",
    "Para usarmos o equipamento quântico da IBM precisamos de uma API token, isso nos dá a permissão para acessar o computador.\n",
    "\n",
    "## Criando uma conta na IBM Quantum Experience website\n",
    "\n",
    "https://quantum-computing.ibm.com/\n",
    "\n",
    "Uma vez criada a conta veremos uma página que nos permitirá criar um circuito quântico ou usar notebooks on-line do qiskit. É o mesmo que rodar o Jupyter, só que dentro da área logada da IBM.\n",
    "\n",
    "Para ter acesso ao seu API token, basta clicar em profile > my account > copy token\n"
   ]
  },
  {
   "cell_type": "code",
   "execution_count": 5,
   "metadata": {},
   "outputs": [],
   "source": [
    "from qiskit import IBMQ"
   ]
  },
  {
   "cell_type": "code",
   "execution_count": 7,
   "metadata": {},
   "outputs": [],
   "source": [
    "IBMQ.save_account('6f69afce1e1aa7a99bc6afc51cbefd81615ab47091a38fe85b58ee5edc30a31a04b67ec6b14e870d086645ce8c16b2f362ee285fe4a3d9afef07fc9a3b7bc56e')"
   ]
  },
  {
   "cell_type": "markdown",
   "metadata": {},
   "source": [
    "## Agora estamos prontos para acessar o computador quântico da IBM!!! \n",
    "\n",
    "Podemos rodar códigos de nosso computador ou enviar circuitos quânticos para serem rodados nas máquinas da IBM e pegar os resultados.\n",
    "\n",
    "Os códigos podem ser executados nos simuladores ou hardwares quânticos, por exemplo, games, aplicações para indústria"
   ]
  },
  {
   "cell_type": "code",
   "execution_count": 8,
   "metadata": {},
   "outputs": [
    {
     "data": {
      "text/plain": [
       "<AccountProvider for IBMQ(hub='ibm-q', group='open', project='main')>"
      ]
     },
     "execution_count": 8,
     "metadata": {},
     "output_type": "execute_result"
    }
   ],
   "source": [
    "IBMQ.load_account()"
   ]
  },
  {
   "cell_type": "markdown",
   "metadata": {},
   "source": [
    "## Hello World!\n",
    "\n",
    "Nossa primeira aplicação em mecânica quântica usando Qiskit."
   ]
  },
  {
   "cell_type": "code",
   "execution_count": 9,
   "metadata": {},
   "outputs": [],
   "source": [
    "# importamos toda a pasta qiskit\n",
    "from qiskit import *"
   ]
  },
  {
   "cell_type": "code",
   "execution_count": 10,
   "metadata": {},
   "outputs": [],
   "source": [
    "# Agora vamos montar nosso circuito quântico\n",
    "# Circuito quântico de 2 qubits\n",
    "\n",
    "#criando um registrador de 2 qubits\n",
    "qr = QuantumRegister(2)"
   ]
  },
  {
   "cell_type": "code",
   "execution_count": 11,
   "metadata": {},
   "outputs": [],
   "source": [
    "# agora vamos construir dois bits clássicos para pegarmos algumas medidas destes qubits\n",
    "cr = ClassicalRegister(2)"
   ]
  },
  {
   "cell_type": "code",
   "execution_count": 12,
   "metadata": {},
   "outputs": [],
   "source": [
    "# podemos construir um circuito usando as duas variáveis criadas\n",
    "circuit = QuantumCircuit(qr, cr)"
   ]
  },
  {
   "cell_type": "code",
   "execution_count": 14,
   "metadata": {},
   "outputs": [
    {
     "data": {
      "text/html": [
       "<pre style=\"word-wrap: normal;white-space: pre;background: #fff0;line-height: 1.1;font-family: &quot;Courier New&quot;,Courier,monospace\">         \n",
       "q0_0: |0>\n",
       "         \n",
       "q0_1: |0>\n",
       "         \n",
       " c0_0: 0 \n",
       "         \n",
       " c0_1: 0 \n",
       "         </pre>"
      ],
      "text/plain": [
       "<qiskit.visualization.text.TextDrawing at 0x7f376168c7b8>"
      ]
     },
     "execution_count": 14,
     "metadata": {},
     "output_type": "execute_result"
    }
   ],
   "source": [
    "# se quisermos modificar ou visualiza, basta chamarmos a tão conhecida biblioteca matplotlib\n",
    "%matplotlib inline\n",
    "circuit.draw()"
   ]
  },
  {
   "cell_type": "code",
   "execution_count": 15,
   "metadata": {},
   "outputs": [
    {
     "data": {
      "text/plain": [
       "<qiskit.circuit.instructionset.InstructionSet at 0x7f37615be6a0>"
      ]
     },
     "execution_count": 15,
     "metadata": {},
     "output_type": "execute_result"
    }
   ],
   "source": [
    "# este circuito não tem muito o que fazer. Agora o próximo passo é criar gates.\n",
    "# para criarmos o entaglement devemos aplicar o Hadamard gate no primeiro qubit (https://en.wikipedia.org/wiki/Quantum_entanglement)\n",
    "circuit.h(qr[0])"
   ]
  },
  {
   "cell_type": "code",
   "execution_count": 16,
   "metadata": {},
   "outputs": [
    {
     "data": {
      "image/png": "[encoded data removed]",
      "text/plain": [
       "<Figure size 227.556x204.68 with 1 Axes>"
      ]
     },
     "execution_count": 16,
     "metadata": {},
     "output_type": "execute_result"
    }
   ],
   "source": [
    "#vamos visualizar\n",
    "# O H no primeiro circuito é o Hadamard gate\n",
    "circuit.draw(output = 'mpl')"
   ]
  },
  {
   "cell_type": "code",
   "execution_count": 17,
   "metadata": {},
   "outputs": [
    {
     "data": {
      "text/plain": [
       "<qiskit.circuit.instructionset.InstructionSet at 0x7f37614c0c18>"
      ]
     },
     "execution_count": 17,
     "metadata": {},
     "output_type": "execute_result"
    }
   ],
   "source": [
    "# vamos criar uma operação de dois qubits chamada controlled X. Esta operação é equivalente ao logical IF, ou seja, a versão quântica do IF ELSE.\n",
    "circuit.cx(qr[0], qr[1])"
   ]
  },
  {
   "cell_type": "code",
   "execution_count": 18,
   "metadata": {},
   "outputs": [
    {
     "data": {
      "image/png": "[encoded data removed]",
      "text/plain": [
       "<Figure size 287.756x204.68 with 1 Axes>"
      ]
     },
     "execution_count": 18,
     "metadata": {},
     "output_type": "execute_result"
    }
   ],
   "source": [
    "# vamos ver como nosso circuito ficou\n",
    "# nosso circuito contém um gate Hadamard e um nó\n",
    "# com estas duas simples operações podemos gerar entanglement entre q0_0 e q0_1\n",
    "circuit.draw(output = 'mpl')"
   ]
  },
  {
   "cell_type": "code",
   "execution_count": 19,
   "metadata": {},
   "outputs": [
    {
     "data": {
      "text/plain": [
       "<qiskit.circuit.instructionset.InstructionSet at 0x7f37614d0ba8>"
      ]
     },
     "execution_count": 19,
     "metadata": {},
     "output_type": "execute_result"
    }
   ],
   "source": [
    "# o próximo passo é medir estes qubits e armazenar num bit clássico\n",
    "circuit.measure(qr, cr)"
   ]
  },
  {
   "cell_type": "code",
   "execution_count": 20,
   "metadata": {},
   "outputs": [
    {
     "data": {
      "image/png": "[encoded data removed]",
      "text/plain": [
       "<Figure size 408.156x204.68 with 1 Axes>"
      ]
     },
     "execution_count": 20,
     "metadata": {},
     "output_type": "execute_result"
    }
   ],
   "source": [
    "circuit.draw(output = 'mpl')"
   ]
  },
  {
   "cell_type": "code",
   "execution_count": 21,
   "metadata": {},
   "outputs": [],
   "source": [
    "# Passo seguinte é rodar o circuito\n",
    "# vamos rodar o circuito quântico no nosso computador clássico e ver o que acontece quando simulamos um computador quântico\n",
    "# depois mandaremos para um device quântico da IBM e observar os resultados\n",
    "# para simular em maquina local usaremos o componente aer do qiskit\n",
    "simulator = Aer.get_backend('qasm_simulator') #quantum assembly language"
   ]
  },
  {
   "cell_type": "code",
   "execution_count": 22,
   "metadata": {},
   "outputs": [
    {
     "data": {
      "text/plain": [
       "<qiskit.providers.aer.aerjob.AerJob at 0x7f37614c0748>"
      ]
     },
     "execution_count": 22,
     "metadata": {},
     "output_type": "execute_result"
    }
   ],
   "source": [
    "# executar\n",
    "execute(circuit, backend = simulator)"
   ]
  },
  {
   "cell_type": "code",
   "execution_count": 23,
   "metadata": {},
   "outputs": [],
   "source": [
    "result = execute(circuit, backend = simulator).result()"
   ]
  },
  {
   "cell_type": "code",
   "execution_count": 24,
   "metadata": {},
   "outputs": [],
   "source": [
    "# vamos visualizar os resultados\n",
    "from qiskit.tools.visualization import plot_histogram"
   ]
  },
  {
   "cell_type": "code",
   "execution_count": 26,
   "metadata": {},
   "outputs": [
    {
     "data": {
      "image/png": "[encoded data removed]",
      "text/plain": [
       "<Figure size 504x360 with 1 Axes>"
      ]
     },
     "execution_count": 26,
     "metadata": {},
     "output_type": "execute_result"
    }
   ],
   "source": [
    "# a diferença ocorre pq estamos rodando um número limitado de simulações e não infinitas\n",
    "plot_histogram(result.get_counts(circuit))"
   ]
  },
  {
   "cell_type": "code",
   "execution_count": 28,
   "metadata": {},
   "outputs": [
    {
     "name": "stderr",
     "output_type": "stream",
     "text": [
      "/home/diluisi/anaconda3/lib/python3.7/site-packages/qiskit/providers/ibmq/ibmqfactory.py:181: UserWarning: Credentials are already in use. The existing account in the session will be replaced.\n",
      "  warnings.warn('Credentials are already in use. The existing '\n"
     ]
    },
    {
     "data": {
      "text/plain": [
       "<AccountProvider for IBMQ(hub='ibm-q', group='open', project='main')>"
      ]
     },
     "execution_count": 28,
     "metadata": {},
     "output_type": "execute_result"
    }
   ],
   "source": [
    "# agora vamos rodar no computador quântico da IBM\n",
    "IBMQ.load_account()"
   ]
  },
  {
   "cell_type": "code",
   "execution_count": 30,
   "metadata": {},
   "outputs": [],
   "source": [
    "provider = IBMQ.get_provider('ibm-q')\n",
    "\n",
    "#definir o computador qunatico que vamos trabalhar\n",
    "qcomp = provider.get_backend('ibmq_16_melbourne')\n",
    "\n",
    "job = execute(circuit, backend = qcomp)"
   ]
  },
  {
   "cell_type": "code",
   "execution_count": 32,
   "metadata": {},
   "outputs": [
    {
     "name": "stdout",
     "output_type": "stream",
     "text": [
      "Job Status: job has successfully run\n"
     ]
    }
   ],
   "source": [
    "from qiskit.tools.monitor import job_monitor\n",
    "\n",
    "# como a máquina é pública tem uma fila que podemos monitorar\n",
    "job_monitor(job)"
   ]
  },
  {
   "cell_type": "code",
   "execution_count": 33,
   "metadata": {},
   "outputs": [
    {
     "data": {
      "image/png": "[encoded data removed]",
      "text/plain": [
       "<Figure size 504x360 with 1 Axes>"
      ]
     },
     "execution_count": 33,
     "metadata": {},
     "output_type": "execute_result"
    }
   ],
   "source": [
    "# dependendo de quão ocupado o device está o job pode levar alguns minutos\n",
    "# armazenamos o resultado do job e plotamos\n",
    "result2 = job.result()\n",
    "plot_histogram(result2.get_counts(circuit))\n",
    "# observamos que o resultado é um pouco difetente. Além do estado 00 e 11 temos 01 e 10\n",
    "# o simulador simula um device perfeitamente quântico\n",
    "# no real temos um pequeno valor de erros quânticos aceitáveis. Este erro é melhorado cada dia que passa com novas tecnologias.\n",
    "# A expectativa é que estes erros sejam cada vez menores e se aproximem da simulação ideal\n",
    "# como o device ainda nao é perfeito percebemos a diferença dos resulados\n"
   ]
  },
  {
   "cell_type": "markdown",
   "metadata": {},
   "source": [
    "# References\n",
    "\n",
    "[Github Qiskit]\n",
    "\n",
    "https://qiskit.org/\n",
    "\n",
    "https://github.com/Qiskit\n",
    "\n",
    "[Series]\n",
    "\n",
    "https://www.youtube.com/playlist?list=PLOFEBzvs-Vvp2xg9-POLJhQwtVktlYGbY\n",
    "\n",
    "[Acesso]\n",
    "\n",
    "https://quantum-computing.ibm.com/account"
   ]
  },
  {
   "cell_type": "code",
   "execution_count": null,
   "metadata": {},
   "outputs": [],
   "source": []
  }
 ],
 "metadata": {
  "kernelspec": {
   "display_name": "Python 3",
   "language": "python",
   "name": "python3"
  },
  "language_info": {
   "codemirror_mode": {
    "name": "ipython",
    "version": 3
   },
   "file_extension": ".py",
   "mimetype": "text/x-python",
   "name": "python",
   "nbconvert_exporter": "python",
   "pygments_lexer": "ipython3",
   "version": "3.7.3"
  }
 },
 "nbformat": 4,
 "nbformat_minor": 4
}
